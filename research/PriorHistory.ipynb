{
 "cells": [
  {
   "cell_type": "code",
   "execution_count": 1,
   "metadata": {},
   "outputs": [
    {
     "data": {
      "text/plain": [
       "{'Public_Disclosure_Fatality_1377353.pdf': 13,\n",
       " '1453180_5_2_23.pdf': 9,\n",
       " 'Public_Disclosure_1510126_F_4.24.23_v2.pdf': 1,\n",
       " '2023_04_13_ID_1446073.pdf': 8}"
      ]
     },
     "execution_count": 1,
     "metadata": {},
     "output_type": "execute_result"
    }
   ],
   "source": [
    "import fitz  # PyMuPDF\n",
    "import re\n",
    "\n",
    "# Function to count dates in the \"G.\" section of a PDF\n",
    "def count_dates_in_g_section(pdf_data):\n",
    "    # Open the PDF from the binary data\n",
    "    doc = fitz.open(stream=pdf_data, filetype=\"pdf\")\n",
    "    text = \"\"\n",
    "    # Extract text from each page\n",
    "    for page in doc:\n",
    "        text += page.get_text()\n",
    "    doc.close()\n",
    "    \n",
    "    # Find the section starting with \"G.\" and ending before \"H.\" or the end of the document\n",
    "    section_g = re.search(r'(?<=G\\.).+?(?=H\\.|\\Z)', text, re.DOTALL)\n",
    "    if not section_g:\n",
    "        return 0  # If \"G.\" section is not found, return 0\n",
    "\n",
    "    section_g_text = section_g.group(0)\n",
    "    # Define a regex pattern for dates (MM/DD/YYYY or MM/DD/YY)\n",
    "    date_pattern = re.compile(r'\\b\\d{1,2}/\\d{1,2}/\\d{2,4}\\b')\n",
    "    # Find all dates in the \"G.\" section\n",
    "    dates = date_pattern.findall(section_g_text)\n",
    "\n",
    "    return len(dates)\n",
    "\n",
    "# Paths to the PDF files\n",
    "pdf_paths = [\n",
    "    \"Public_Disclosure_Fatality_1377353.pdf\",\n",
    "    \"1453180_5_2_23.pdf\",\n",
    "    \"Public_Disclosure_1510126_F_4.24.23_v2.pdf\",\n",
    "    \"2023_04_13_ID_1446073.pdf\",\n",
    "]\n",
    "\n",
    "# Dictionary to hold the counts of dates for each PDF\n",
    "date_counts = {}\n",
    "\n",
    "# Process each PDF file and count the dates in the \"G.\" section\n",
    "for pdf_path in pdf_paths:\n",
    "    # Read the binary data of the PDF file\n",
    "    with open(pdf_path, \"rb\") as f:\n",
    "        pdf_data = f.read()\n",
    "    # Count the dates in the \"G.\" section\n",
    "    date_counts[pdf_path] = count_dates_in_g_section(pdf_data)\n",
    "\n",
    "date_counts\n"
   ]
  },
  {
   "cell_type": "code",
   "execution_count": null,
   "metadata": {},
   "outputs": [],
   "source": []
  }
 ],
 "metadata": {
  "kernelspec": {
   "display_name": "child_nv",
   "language": "python",
   "name": "python3"
  },
  "language_info": {
   "codemirror_mode": {
    "name": "ipython",
    "version": 3
   },
   "file_extension": ".py",
   "mimetype": "text/x-python",
   "name": "python",
   "nbconvert_exporter": "python",
   "pygments_lexer": "ipython3",
   "version": "3.10.12"
  },
  "orig_nbformat": 4
 },
 "nbformat": 4,
 "nbformat_minor": 2
}
