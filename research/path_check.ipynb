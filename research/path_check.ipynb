{
 "cells": [
  {
   "cell_type": "code",
   "execution_count": 28,
   "metadata": {},
   "outputs": [],
   "source": [
    "from dotenv import load_dotenv\n",
    "\n",
    "# Load the environment variables from the .env file\n",
    "load_dotenv('.env')\n",
    "\n",
    "# Now you can access the environment variables like this:\n",
    "import os\n",
    "\n",
    "FULL_DATA_PATH = os.getenv(\"FULL_DATA_PATH\")\n",
    "# os.path.join(FULL_DATA_PATH, \"Clark\")"
   ]
  },
  {
   "cell_type": "code",
   "execution_count": 29,
   "metadata": {},
   "outputs": [],
   "source": [
    "import os\n",
    "from dotenv import load_dotenv\n",
    "\n",
    "# Load the environment variables from the .env file\n",
    "load_dotenv('.env')\n",
    "FULL_DATA_PATH = os.getenv(\"FULL_DATA_PATH\")# Full config for main.py\n",
    "\n",
    "# TODO: bad practice to have python inside config, but ok for dev/debugging\n",
    "FULL_PATH_COUNTIES = [\n",
    "    os.path.join(FULL_DATA_PATH, \"Clark\"),\n",
    "    os.path.join(FULL_DATA_PATH, \"Rural\"),\n",
    "    os.path.join(FULL_DATA_PATH, \"Clark\"),\n",
    "]  # used in main to run all folder paths if given\n",
    "\n",
    "def full_data_path_prep(county_folder, test_year='2023'):\n",
    "\n",
    "    print(county_folder)\n",
    "\n",
    "    all_years_list = os.listdir(fr\"{county_folder}\")\n",
    "    # print(all_years_list)\n",
    "\n",
    "    for year_folder in all_years_list:\n",
    "        # print(year_folder)\n",
    "\n",
    "        if year_folder == test_year:\n",
    "\n",
    "            county_year_path = os.path.join(FULL_DATA_PATH, county_folder, year_folder)\n",
    "\n",
    "            # Use a list comprehension to filter for files with a \".pdf\" extension\n",
    "            all_county_year_items = os.listdir(county_year_path)\n",
    "            pdf_files_list = [item for item in all_county_year_items if item.lower().endswith('.pdf')]\n",
    "\n",
    "    return pdf_files_list\n",
    "\n",
    "# for county_folder in FULL_PATH_COUNTIES:\n",
    "#     print(full_data_path_prep(county_folder))"
   ]
  },
  {
   "cell_type": "code",
   "execution_count": 31,
   "metadata": {},
   "outputs": [
    {
     "name": "stdout",
     "output_type": "stream",
     "text": [
      "Clark\n",
      "Rural\n",
      "Clark\n"
     ]
    }
   ],
   "source": [
    "for county_folder in FULL_PATH_COUNTIES:\n",
    "    # print(county_folder)\n",
    "    county = county_folder.split(\"\\\\\")[-1]\n",
    "    print(county)\n",
    "                                 "
   ]
  },
  {
   "cell_type": "code",
   "execution_count": null,
   "metadata": {},
   "outputs": [],
   "source": []
  }
 ],
 "metadata": {
  "kernelspec": {
   "display_name": "StateBase",
   "language": "python",
   "name": "python3"
  },
  "language_info": {
   "codemirror_mode": {
    "name": "ipython",
    "version": 3
   },
   "file_extension": ".py",
   "mimetype": "text/x-python",
   "name": "python",
   "nbconvert_exporter": "python",
   "pygments_lexer": "ipython3",
   "version": "3.8.16"
  }
 },
 "nbformat": 4,
 "nbformat_minor": 2
}
