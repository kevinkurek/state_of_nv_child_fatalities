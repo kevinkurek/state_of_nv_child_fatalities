{
 "cells": [
  {
   "cell_type": "code",
   "execution_count": 4,
   "metadata": {},
   "outputs": [],
   "source": [
    "from dotenv import load_dotenv\n",
    "\n",
    "# Load the environment variables from the .env file\n",
    "load_dotenv('.env')\n",
    "\n",
    "# Now you can access the environment variables like this:\n",
    "import os\n",
    "\n",
    "FULL_DATA_PATH = os.getenv(\"FULL_DATA_PATH\")"
   ]
  },
  {
   "cell_type": "code",
   "execution_count": 6,
   "metadata": {},
   "outputs": [],
   "source": [
    "from typing import List, Dict, Optional\n",
    "\n",
    "def list_files(path: str, append_base_path: Optional[bool]=None) -> List[str]:\n",
    "    \"\"\"\n",
    "    Lists all files in a specified directory.\n",
    "\n",
    "    Args:\n",
    "        path (str): Path of the directory to list files from.\n",
    "\n",
    "    Returns:\n",
    "        files (list): List of file names in the directory.\n",
    "\n",
    "    Example:\n",
    "        path = '/path/to/directory'\n",
    "        list_files(path)\n",
    "    \"\"\"\n",
    "\n",
    "    files = []\n",
    "    for file in os.listdir(path):\n",
    "        if os.path.isfile(os.path.join(path, file)):\n",
    "            if not append_base_path:\n",
    "                files.append(file)\n",
    "            else:\n",
    "                files.append(os.path.join(path, file))\n",
    "\n",
    "    return files"
   ]
  },
  {
   "cell_type": "code",
   "execution_count": 7,
   "metadata": {},
   "outputs": [
    {
     "data": {
      "text/plain": [
       "['Clark_merged.csv', 'Rural_merged.csv', 'Washoe_merged.csv']"
      ]
     },
     "execution_count": 7,
     "metadata": {},
     "output_type": "execute_result"
    }
   ],
   "source": [
    "list_files(FULL_DATA_PATH)"
   ]
  },
  {
   "cell_type": "code",
   "execution_count": null,
   "metadata": {},
   "outputs": [],
   "source": []
  }
 ],
 "metadata": {
  "kernelspec": {
   "display_name": "StateBase",
   "language": "python",
   "name": "python3"
  },
  "language_info": {
   "codemirror_mode": {
    "name": "ipython",
    "version": 3
   },
   "file_extension": ".py",
   "mimetype": "text/x-python",
   "name": "python",
   "nbconvert_exporter": "python",
   "pygments_lexer": "ipython3",
   "version": "3.8.16"
  }
 },
 "nbformat": 4,
 "nbformat_minor": 2
}
